{
 "cells": [
  {
   "cell_type": "markdown",
   "metadata": {},
   "source": [
    "<img src=\"tpan1.png\">"
   ]
  },
  {
   "cell_type": "markdown",
   "metadata": {},
   "source": [
    "## Exercice 1:<h2>\n",
    ">On considère le polynôme $p(x) = (x - 1)^6$. \n",
    ">\n",
    ">En développant on\n",
    ">peut écrire ce même polynôme sous la forme\n",
    ">$f(x) = x^6 - 6x^5 + 15x^4 - 20x^3 + 15x^2 - 6x + 1.$\n",
    ">\n",
    ">1) Avec Matlab évaluer $p(x)$ et $f(x)$ pour $x$ allant de $.998$ à\n",
    ">$1.002$ en choisissant des pas de $.0001$.\n",
    ">\n",
    ">2) Faire un graphique de $f(x)$ et $p(x)$. Commenter."
   ]
  },
  {
   "cell_type": "markdown",
   "metadata": {},
   "source": [
    "## python"
   ]
  },
  {
   "cell_type": "code",
   "execution_count": 3,
   "metadata": {},
   "outputs": [
    {
     "data": {
      "text/plain": [
       "6.400000000000034e-17"
      ]
     },
     "execution_count": 3,
     "metadata": {},
     "output_type": "execute_result"
    }
   ],
   "source": [
    "def p(x):\n",
    "    return (x-1)**6\n",
    "p(0.998)"
   ]
  },
  {
   "cell_type": "code",
   "execution_count": 4,
   "metadata": {},
   "outputs": [
    {
     "data": {
      "text/plain": [
       "1.7763568394002505e-15"
      ]
     },
     "execution_count": 4,
     "metadata": {},
     "output_type": "execute_result"
    }
   ],
   "source": [
    "def f(x):\n",
    "    return x**6 - 6*x**5 + 15*x**4 - 20*x**3 + 15*x**2 -6*x +1\n",
    "f(0.998)"
   ]
  },
  {
   "cell_type": "markdown",
   "metadata": {},
   "source": [
    "Les résultats obtenus sont différents or que les deux fonctions $f(x)$ est equivalente a $p(x)$ mathématiquement .\n",
    "Mais la fonction $p(x)$ est plus précise."
   ]
  },
  {
   "cell_type": "markdown",
   "metadata": {},
   "source": [
    "### Code MATLAB de la fonction horner\n",
    "```octave\n",
    "function x = horner(a,z_0)\n",
    "n = length(a);\n",
    "result = a(1);\n",
    "for j = 2:n\n",
    "    result = result*z_0 + a(j);\n",
    "endfor\n",
    "x = result;\n",
    "end\n",
    "```"
   ]
  },
  {
   "cell_type": "markdown",
   "metadata": {},
   "source": [
    "### Solution de l'exercice 1 avec MATLAB/OCTAVE"
   ]
  },
  {
   "cell_type": "code",
   "execution_count": null,
   "metadata": {},
   "outputs": [],
   "source": [
    "function x = horner(a,z_0)\n",
    "n = length(a);\n",
    "result = a(1);\n",
    "for j = 2:n\n",
    "    result = result*z_0 + a(j);\n",
    "endfor\n",
    "x = result;\n",
    "end"
   ]
  },
  {
   "cell_type": "code",
   "execution_count": null,
   "metadata": {},
   "outputs": [],
   "source": [
    "p=@(x) (x-1).^6\n",
    "f=@(x) x.^6 - 6*x.^5 + 15*x.^4 - 20*x.^3 + 15*x.^2 - 6*x + 1"
   ]
  },
  {
   "cell_type": "code",
   "execution_count": 2,
   "metadata": {},
   "outputs": [
    {
     "name": "stdout",
     "output_type": "stream",
     "text": [
      "T =\n",
      "\n",
      "    1   -6   15  -20   15   -6    1\n",
      "\n",
      "-------p(i)---------\n",
      "error: 'p' undefined near line 2 column 1\n",
      "-------f(i)----------\n",
      "error: 'f' undefined near line 2 column 1\n",
      "-------horner--------\n",
      "error: 'horner' undefined near line 2 column 1\n"
     ]
    }
   ],
   "source": [
    "T=[1 -6 15 -20 15 -6 1]\n",
    "% Expression réduite\n",
    "disp('-------p(i)---------')\n",
    "for i=[0.998:0.001:1.002]\n",
    "p(i)\n",
    "endfor\n",
    "%expression developpée\n",
    "disp('-------f(i)----------')\n",
    "for i=[0.998:0.001:1.002]\n",
    "f(i)\n",
    "endfor\n",
    "disp('-------horner--------')\n",
    "for i=[0.998:0.001:1.002]\n",
    "horner(T,i)\n",
    "endfor"
   ]
  },
  {
   "cell_type": "markdown",
   "metadata": {},
   "source": [
    "### Solution de l'exercice 1 avec Python"
   ]
  },
  {
   "cell_type": "code",
   "execution_count": 5,
   "metadata": {},
   "outputs": [],
   "source": [
    "def horner(P,x):\n",
    "    n=len(P)\n",
    "    valeur=P[n-1]\n",
    "    for i in range(n-2,-1,-1):\n",
    "        valeur=valeur*x+P[i]\n",
    "    return valeur"
   ]
  },
  {
   "cell_type": "code",
   "execution_count": 6,
   "metadata": {},
   "outputs": [
    {
     "name": "stdout",
     "output_type": "stream",
     "text": [
      "Expression réduite\n",
      "***p(i)***\n",
      "p(i)=  6.400000000000034e-17\n",
      "p(i)=  4.70458810000019e-17\n",
      "p(i)=  3.40122240000027e-17\n",
      "p(i)=  2.4137569000002966e-17\n",
      "p(i)=  1.6777216000002883e-17\n",
      "p(i)=  1.139062500000259e-17\n",
      "p(i)=  7.52953600000219e-18\n",
      "p(i)=  4.826809000001757e-18\n",
      "p(i)=  2.985984000001342e-18\n",
      "p(i)=  1.771561000000975e-18\n",
      "p(i)=  1.0000000000006715e-18\n",
      "p(i)=  5.314410000004355e-19\n",
      "p(i)=  2.6214400000026335e-19\n",
      "p(i)=  1.1764900000014617e-19\n",
      "p(i)=  4.665600000007277e-20\n",
      "p(i)=  1.562500000003131e-20\n",
      "p(i)=  4.096000000010936e-21\n",
      "p(i)=  7.290000000027557e-22\n",
      "p(i)=  6.400000000038403e-23\n",
      "p(i)=  1.0000000000126618e-24\n",
      "p(i)=  1.1985091468012028e-94\n",
      "p(i)=  9.999999999860165e-25\n",
      "p(i)=  6.399999999953138e-23\n",
      "p(i)=  7.289999999962809e-22\n",
      "p(i)=  4.095999999983651e-21\n",
      "p(i)=  1.562499999994804e-20\n",
      "p(i)=  4.6655999999865574e-20\n",
      "p(i)=  1.1764899999969834e-19\n",
      "p(i)=  2.6214399999939023e-19\n",
      "p(i)=  5.314409999988621e-19\n",
      "p(i)=  9.99999999998007e-19\n",
      "p(i)=  1.7715609999966836e-18\n",
      "p(i)=  2.9859839999947116e-18\n",
      "p(i)=  4.826808999991864e-18\n",
      "p(i)=  7.52953599998786e-18\n",
      "p(i)=  1.1390624999982356e-17\n",
      "p(i)=  1.6777215999974943e-17\n",
      "p(i)=  2.4137568999965134e-17\n",
      "p(i)=  3.401222399995235e-17\n",
      "p(i)=  4.704588099993592e-17\n",
      "p(i)=  6.399999999991508e-17\n",
      "Expression developpée\n",
      "***f(i)***\n",
      "f(i)=  1.7763568394002505e-15\n",
      "f(i)=  1.7763568394002505e-15\n",
      "f(i)=  0.0\n",
      "f(i)=  -2.6645352591003757e-15\n",
      "f(i)=  1.7763568394002505e-15\n",
      "f(i)=  0.0\n",
      "f(i)=  -1.7763568394002505e-15\n",
      "f(i)=  8.881784197001252e-16\n",
      "f(i)=  1.7763568394002505e-15\n",
      "f(i)=  -3.552713678800501e-15\n",
      "f(i)=  0.0\n",
      "f(i)=  -2.6645352591003757e-15\n",
      "f(i)=  0.0\n",
      "f(i)=  0.0\n",
      "f(i)=  -1.7763568394002505e-15\n",
      "f(i)=  -8.881784197001252e-16\n",
      "f(i)=  0.0\n",
      "f(i)=  1.7763568394002505e-15\n",
      "f(i)=  -1.7763568394002505e-15\n",
      "f(i)=  2.6645352591003757e-15\n",
      "f(i)=  0.0\n",
      "f(i)=  -1.7763568394002505e-15\n",
      "f(i)=  -1.7763568394002505e-15\n",
      "f(i)=  -4.440892098500626e-15\n",
      "f(i)=  -1.7763568394002505e-15\n",
      "f(i)=  5.329070518200751e-15\n",
      "f(i)=  0.0\n",
      "f(i)=  -2.6645352591003757e-15\n",
      "f(i)=  1.7763568394002505e-15\n",
      "f(i)=  -3.552713678800501e-15\n",
      "f(i)=  -3.552713678800501e-15\n",
      "f(i)=  8.881784197001252e-16\n",
      "f(i)=  1.7763568394002505e-15\n",
      "f(i)=  -1.7763568394002505e-15\n",
      "f(i)=  0.0\n",
      "f(i)=  2.6645352591003757e-15\n",
      "f(i)=  0.0\n",
      "f(i)=  1.7763568394002505e-15\n",
      "f(i)=  0.0\n",
      "f(i)=  2.6645352591003757e-15\n",
      "f(i)=  1.7763568394002505e-15\n",
      "***horner***\n",
      "horner(T,i) = -1.3322676295501878e-15\n",
      "horner(T,i) = 7.771561172376096e-16\n",
      "horner(T,i) = -1.1102230246251565e-15\n",
      "horner(T,i) = -6.661338147750939e-16\n",
      "horner(T,i) = 1.1102230246251565e-15\n",
      "horner(T,i) = -8.881784197001252e-16\n",
      "horner(T,i) = 7.771561172376096e-16\n",
      "horner(T,i) = -1.7763568394002505e-15\n",
      "horner(T,i) = 2.3314683517128287e-15\n",
      "horner(T,i) = 2.220446049250313e-16\n",
      "horner(T,i) = 4.440892098500626e-16\n",
      "horner(T,i) = 1.3322676295501878e-15\n",
      "horner(T,i) = 7.771561172376096e-16\n",
      "horner(T,i) = -4.440892098500626e-16\n",
      "horner(T,i) = -1.3322676295501878e-15\n",
      "horner(T,i) = -1.7763568394002505e-15\n",
      "horner(T,i) = -2.220446049250313e-16\n",
      "horner(T,i) = -8.881784197001252e-16\n",
      "horner(T,i) = 0.0\n",
      "horner(T,i) = 5.551115123125783e-16\n",
      "horner(T,i) = -6.661338147750939e-16\n",
      "horner(T,i) = 2.220446049250313e-16\n",
      "horner(T,i) = 5.551115123125783e-16\n",
      "horner(T,i) = -8.881784197001252e-16\n",
      "horner(T,i) = 4.440892098500626e-16\n",
      "horner(T,i) = -1.3322676295501878e-15\n",
      "horner(T,i) = 5.551115123125783e-16\n",
      "horner(T,i) = 3.3306690738754696e-16\n",
      "horner(T,i) = 5.551115123125783e-16\n",
      "horner(T,i) = -2.220446049250313e-15\n",
      "horner(T,i) = 4.440892098500626e-16\n",
      "horner(T,i) = -2.220446049250313e-15\n",
      "horner(T,i) = 2.55351295663786e-15\n",
      "horner(T,i) = 8.881784197001252e-16\n",
      "horner(T,i) = 0.0\n",
      "horner(T,i) = -8.881784197001252e-16\n",
      "horner(T,i) = 1.4432899320127035e-15\n",
      "horner(T,i) = 1.9984014443252818e-15\n",
      "horner(T,i) = -1.9984014443252818e-15\n",
      "horner(T,i) = -1.1102230246251565e-15\n",
      "horner(T,i) = 6.661338147750939e-16\n"
     ]
    }
   ],
   "source": [
    "import numpy as np\n",
    "T=[1,-6, 15, -20, 15, -6, 1]\n",
    "print('Expression réduite')\n",
    "print('***p(i)***')\n",
    "for i in np.arange(0.998, 1.002,0.0001):\n",
    "    print('p(i)= ' , p(i))\n",
    "\n",
    "print('Expression developpée')\n",
    "print('***f(i)***')\n",
    "for i in np.arange(0.998, 1.002,0.0001):\n",
    "    print('f(i)= ' , f(i))\n",
    "print('***horner***')\n",
    "for i in np.arange(0.998, 1.002,0.0001):\n",
    "    print('horner(T,i) =' , horner(T,i))"
   ]
  },
  {
   "cell_type": "markdown",
   "metadata": {},
   "source": [
    "Résultat Graphique(Python)"
   ]
  },
  {
   "cell_type": "code",
   "execution_count": 8,
   "metadata": {},
   "outputs": [
    {
     "data": {
      "image/png": "[encoded data removed]",
      "text/plain": [
       "<Figure size 432x288 with 1 Axes>"
      ]
     },
     "metadata": {
      "needs_background": "light"
     },
     "output_type": "display_data"
    }
   ],
   "source": [
    "import matplotlib.pyplot as pl\n",
    "import numpy as np\n",
    "x = np.arange(0.998, 1.002, 0.0001)\n",
    "pl.plot(x,p(x))\n",
    "pl.plot(x,f(x))\n",
    "pl.xlabel('x')\n",
    "pl.ylabel('f(x)')\n",
    "pl.title('fonction in[0.998:0.0001:1.002] ')\n",
    "pl.grid(True)   \n",
    "pl.show()"
   ]
  },
  {
   "cell_type": "markdown",
   "metadata": {},
   "source": [
    "# EXERCICE 2:\n",
    "\n",
    ">On considère l'équation : $$ f(x)=x^3+x^2-3x-3=0$$\n",
    ">1) Dessiner la courbe de $f$ dans l'intervalle $[-2;2]$, puis trouver des intervalles convenables pour appliquer la méthode de >bisection.\n",
    ">\n",
    ">2) Utiliser un programme `dicho.m` qui permettra de trouver les solutions de l'équation $f(x)=0$ avec $eps=0.001$.\n",
    ">\n",
    ">3) Modifier le programme `dicho.m` pour qu'il donne le nombre d'itération nécessaire pour avoir la solution à $eps$ près."
   ]
  },
  {
   "cell_type": "code",
   "execution_count": 10,
   "metadata": {},
   "outputs": [
    {
     "data": {
      "text/plain": [
       "[<matplotlib.lines.Line2D at 0x8638e88>]"
      ]
     },
     "execution_count": 10,
     "metadata": {},
     "output_type": "execute_result"
    },
    {
     "data": {
      "image/png": "[encoded data removed]",
      "text/plain": [
       "<Figure size 432x288 with 1 Axes>"
      ]
     },
     "metadata": {
      "needs_background": "light"
     },
     "output_type": "display_data"
    }
   ],
   "source": [
    "import matplotlib.pyplot as plt\n",
    "from numpy import linspace\n",
    "f=lambda x: x**3+x**2-3*x-3\n",
    "T=linspace(-2,2,41)\n",
    "plt.title(\"solution dans [-2:2] \");\n",
    "plt.xlabel(\"x\")\n",
    "plt.ylabel (\"f(x)\")\n",
    "plt.grid(True)\n",
    "plt.plot(T,f(T))"
   ]
  },
  {
   "cell_type": "markdown",
   "metadata": {},
   "source": [
    "# Daprés le graph de $f$ il existe 3 solutions :\n",
    "- $\\alpha_1 \\in ]-2;-1.5[$ \n",
    "- $\\alpha_2 \\in ]-1.5;-0.5[$ \n",
    "- $\\alpha_3 \\in ]1.5;2[$ \n",
    "\n",
    "## 2.2 Version OCTAVE\n",
    "voiçi une implementation en matlab dela fonction dicho\n",
    "```octave\n",
    "function [x]=dicho(f,a,b,tol)\n",
    "m=(a+b)/2;\n",
    "err=abs(b-a);\n",
    "while err>tol \n",
    "    if f(m)==0 \n",
    "        break\n",
    "    end\n",
    "    if f(a)*f(m)<0 \n",
    "        b=m;\n",
    "    else a=m;\n",
    "    end\n",
    "    m=(a+b)/2;\n",
    "    err=abs(b-a);\n",
    "end\n",
    "x=m;\n",
    "end\n",
    "```"
   ]
  },
  {
   "cell_type": "markdown",
   "metadata": {},
   "source": [
    "`[x]=dicho(f,-2,-1.5,0.001)`"
   ]
  },
  {
   "cell_type": "markdown",
   "metadata": {},
   "source": [
    "`[x]=dicho(f,-2,-1.5,0.001)`"
   ]
  },
  {
   "cell_type": "markdown",
   "metadata": {},
   "source": [
    "`[x]=dicho(f,-2,-1.5,0.001)`"
   ]
  },
  {
   "cell_type": "markdown",
   "metadata": {},
   "source": [
    "## 2.2 Version Python"
   ]
  },
  {
   "cell_type": "code",
   "execution_count": 18,
   "metadata": {},
   "outputs": [],
   "source": [
    "def dicho(a,b,g,n):\n",
    "   \n",
    "  while b-a > n :\n",
    "    m = (a+b)/2\n",
    "    if g(m)==0 :\n",
    "        return m\n",
    "    \n",
    "    if g(a)*g(m) < 0 :\n",
    "        b=m\n",
    "    else :\n",
    "        a=m\n",
    "   \n",
    "  return (a,b)\n",
    "    \n",
    "    "
   ]
  },
  {
   "cell_type": "code",
   "execution_count": 21,
   "metadata": {},
   "outputs": [
    {
     "name": "stdout",
     "output_type": "stream",
     "text": [
      "(-2, -1.5) (-2, -1.5) (-2, -1.5)\n",
      "(-2, -1.5)\n"
     ]
    }
   ],
   "source": [
    "x3=dicho(-2,-1.5,f,10)\n",
    "x10=dicho(-2,-1.5,f,10)\n",
    "x20=dicho(-2,-1.5,f,20)\n",
    "print(x3,x10,x20)\n",
    "print(x3)"
   ]
  },
  {
   "cell_type": "code",
   "execution_count": 23,
   "metadata": {},
   "outputs": [
    {
     "data": {
      "text/plain": [
       "(-2, -1.5)"
      ]
     },
     "execution_count": 23,
     "metadata": {},
     "output_type": "execute_result"
    }
   ],
   "source": [
    "def g(x):\n",
    "    return x**3+x**2-3*x-3\n",
    "dicho(-2,-1.5,g,10)"
   ]
  },
  {
   "cell_type": "code",
   "execution_count": 33,
   "metadata": {},
   "outputs": [],
   "source": [
    "def dichow(a,b,g,eps):\n",
    "   t=0\n",
    "   while b-a > eps :\n",
    "    m = (a+b)/2\n",
    "    if g(m)==0 :\n",
    "        return m\n",
    "    \n",
    "    if g(a)*g(m) < 0 :\n",
    "        b=m\n",
    "    else :\n",
    "        a=m\n",
    "    t=t+1\n",
    "    return (a,b,t)"
   ]
  },
  {
   "cell_type": "code",
   "execution_count": 34,
   "metadata": {},
   "outputs": [
    {
     "data": {
      "text/plain": [
       "(-1.75, -1.5, 1)"
      ]
     },
     "execution_count": 34,
     "metadata": {},
     "output_type": "execute_result"
    }
   ],
   "source": [
    "def g(x):\n",
    "    return x**3+x**2-3*x-3\n",
    "dichow(-2,-1.5,g,0.0001)"
   ]
  },
  {
   "cell_type": "markdown",
   "metadata": {},
   "source": [
    "### 3 (Python version)"
   ]
  },
  {
   "cell_type": "code",
   "execution_count": 27,
   "metadata": {},
   "outputs": [
    {
     "data": {
      "text/plain": [
       "3.0"
      ]
     },
     "execution_count": 27,
     "metadata": {},
     "output_type": "execute_result"
    }
   ],
   "source": [
    "import numpy as np\n",
    "np.floor(2.3)\n",
    "np.ceil(2.3)"
   ]
  },
  {
   "cell_type": "code",
   "execution_count": 28,
   "metadata": {},
   "outputs": [
    {
     "data": {
      "text/plain": [
       "-1.0"
      ]
     },
     "execution_count": 28,
     "metadata": {},
     "output_type": "execute_result"
    }
   ],
   "source": [
    "import numpy as np\n",
    "a=-1.5\n",
    "b=-0.5\n",
    "p=8 # précision à 10 ^-8 prés\n",
    "dichow(a,b,f,10**(-p))\n",
    "#à 10^-8\n"
   ]
  },
  {
   "cell_type": "code",
   "execution_count": 29,
   "metadata": {},
   "outputs": [
    {
     "name": "stdout",
     "output_type": "stream",
     "text": [
      "(-1.75, -1.5, 1)\n",
      "-1.0\n",
      "(1.5, 1.75, 1)\n",
      "(-1.75, -1.5, 1)\n",
      "-1.0\n",
      "(1.5, 1.75, 1)\n"
     ]
    }
   ],
   "source": [
    "interval=[[-2,-1.5],[-1.5,-0.5],[1.5,2]]\n",
    "for u in interval:\n",
    "    print(dichow(u[0],u[1],f,10**(-3)))\n",
    "################################################   \n",
    "print(dichow(-2,-1.5,f,10**(-3)))\n",
    "print(dichow(-1.5,-0.5,f,10**(-3)))\n",
    "print(dichow(1.5,2,f,10**(-3)))\n"
   ]
  },
  {
   "cell_type": "markdown",
   "metadata": {},
   "source": [
    "Le nombre d'itération N nécéssaire à la méthode de la dichotomie pour trouver $\\alpha$ à $10^{-p}$ prés \n",
    "\n",
    "$$N \\geq E\\left(\\dfrac{\\ln(b-a)+p\\ln(10)}{\\ln(2)}\\right)+1$$"
   ]
  },
  {
   "cell_type": "code",
   "execution_count": 30,
   "metadata": {},
   "outputs": [],
   "source": [
    "def dichow(a,b,g,eps):\n",
    "   t=0\n",
    "   while b-a > eps :\n",
    "    m = (a+b)/2\n",
    "    if g(m)==0 :\n",
    "        return m\n",
    "    \n",
    "    if g(a)*g(m) < 0 :\n",
    "        b=m\n",
    "    else :\n",
    "        a=m\n",
    "    t=t+1\n",
    "    return (a,b,t)\n",
    "    \n",
    "    "
   ]
  },
  {
   "cell_type": "code",
   "execution_count": 35,
   "metadata": {},
   "outputs": [
    {
     "data": {
      "text/plain": [
       "(-1.75, -1.5, 1)"
      ]
     },
     "execution_count": 35,
     "metadata": {},
     "output_type": "execute_result"
    }
   ],
   "source": [
    "dichow(-2,-1.5,f,0.0001)"
   ]
  },
  {
   "cell_type": "markdown",
   "metadata": {},
   "source": [
    "=> Aprés 1 itérations on trouve la valeur de $\\alpha$"
   ]
  },
  {
   "cell_type": "markdown",
   "metadata": {},
   "source": [
    "# Méthode graphique pour la recherche de la solution "
   ]
  },
  {
   "cell_type": "code",
   "execution_count": 36,
   "metadata": {},
   "outputs": [
    {
     "data": {
      "image/png": "[encoded data removed]",
      "text/plain": [
       "<Figure size 432x288 with 4 Axes>"
      ]
     },
     "metadata": {
      "needs_background": "light"
     },
     "output_type": "display_data"
    }
   ],
   "source": [
    "import numpy as np \n",
    "import matplotlib.pyplot as pl\n",
    "\n",
    "f=lambda x:x**3+x**2-3*x-3\n",
    "\n",
    "t=np.linspace(1.7,1.75,100)\n",
    "pl.subplot(2,2,1)\n",
    "pl.plot(t,f(t),'r')\n",
    "pl.grid(True)\n",
    "##########################################\n",
    "t=np.linspace(1.2,1.4,100)\n",
    "pl.subplot(2,2,2)\n",
    "pl.plot(t,f(t),'r')\n",
    "pl.grid(True)\n",
    "##########################################\n",
    "t=np.linspace(1.35,1.4,100)\n",
    "pl.subplot(2,2,3)\n",
    "pl.plot(t,f(t),'r')\n",
    "pl.grid(True)\n",
    "#########################################\n",
    "t=np.linspace(1.365,1.367,100)\n",
    "pl.subplot(2,2,4)\n",
    "pl.plot(t,f(t),'r')\n",
    "pl.grid(True)"
   ]
  },
  {
   "cell_type": "code",
   "execution_count": 41,
   "metadata": {},
   "outputs": [],
   "source": [
    "def dichow(a,b,g,eps):\n",
    "   t=0\n",
    "   while b-a > eps :\n",
    "    m = (a+b)/2\n",
    "    if g(m)==0 :\n",
    "        return m\n",
    "    \n",
    "    if g(a)*g(m) < 0 :\n",
    "        b=m\n",
    "    else :\n",
    "        a=m\n",
    "    t=t+1\n",
    "    return (a,b,t)\n",
    "    \n",
    "    "
   ]
  },
  {
   "cell_type": "code",
   "execution_count": 42,
   "metadata": {},
   "outputs": [
    {
     "data": {
      "text/plain": [
       "(-1.75, -1.5, 1)"
      ]
     },
     "execution_count": 42,
     "metadata": {},
     "output_type": "execute_result"
    }
   ],
   "source": [
    "#alpha 1\n",
    "dichow(-2,-1.5,f,10**(-5))\n",
    "#à 10^-8"
   ]
  },
  {
   "cell_type": "markdown",
   "metadata": {},
   "source": [
    "# EXERCICE 3:\n",
    ">On considère l'équation : $$ f(x)=x^3+4x^2-10=0$$\n",
    ">1) Dessiner la courbe de $f$ dans l'intervalle $[1;2]$, puis trouver une valeur approché de la solution à 0.001 près (En >utilisant la fonction zoom du graphique).\n",
    ">\n",
    ">2) Vérifier que cette équation est équivalente aux 3 schéma du point fixe suivant:\n",
    ">\n",
    ">a) $g_1(x)=\\frac{1}{2}\\sqrt{10-x^3}=x$.\n",
    ">\n",
    ">b) $g_2(x)=\\sqrt{\\displaystyle\\frac{10}{4+x}}=x$.\n",
    ">\n",
    ">c) $g_3(x)=x-x^3-4x^2+10=x$.\n",
    ">\n",
    ">3) Ecrire puis appliquer  une fonction Matlab que l'on appellera  `pointfixe.m` aux trois schémas précédents en prenant >`x0=1.5;eps=0.001`.\n",
    ">\n",
    ">4) Quelle est la fonction (parmi $g_1, g_2$ et $g_3$) qui donne la convergence la plus rapide?\n",
    ">"
   ]
  },
  {
   "cell_type": "markdown",
   "metadata": {},
   "source": [
    "### Correction <h3>"
   ]
  },
  {
   "cell_type": "markdown",
   "metadata": {},
   "source": [
    "#### 1)<h4>"
   ]
  },
  {
   "cell_type": "code",
   "execution_count": 1,
   "metadata": {},
   "outputs": [
    {
     "data": {
      "image/png": "[encoded data removed]",
      "text/plain": [
       "<Figure size 432x288 with 4 Axes>"
      ]
     },
     "metadata": {
      "needs_background": "light"
     },
     "output_type": "display_data"
    }
   ],
   "source": [
    "%matplotlib inline\n",
    "#import mpld3\n",
    "#mpld3.enable_notebook()\n",
    "import numpy as np \n",
    "import matplotlib.pyplot as plt\n",
    "\n",
    "f=lambda x:x**3+4*x**2-10\n",
    "\n",
    "t=np.linspace(1,2,100)\n",
    "plt.subplot(2,2,1)\n",
    "plt.plot(t,f(t),'r')\n",
    "plt.grid(True)\n",
    "##########################################\n",
    "t=np.linspace(1.2,1.4,100)\n",
    "plt.subplot(2,2,2)\n",
    "plt.plot(t,f(t),'r')\n",
    "plt.grid(True)\n",
    "##########################################\n",
    "t=np.linspace(1.35,1.4,100)\n",
    "plt.subplot(2,2,3)\n",
    "plt.plot(t,f(t),'r')\n",
    "plt.grid(True)\n",
    "#########################################\n",
    "t=np.linspace(1.365,1.367,100)\n",
    "plt.subplot(2,2,4)\n",
    "plt.plot(t,f(t),'r')\n",
    "plt.grid(True)"
   ]
  },
  {
   "cell_type": "markdown",
   "metadata": {},
   "source": [
    "#### 2) Justification théorique pour la fonction g1"
   ]
  },
  {
   "cell_type": "markdown",
   "metadata": {},
   "source": [
    "On considère l'équation : $$ f(x)=x^3+4x^2-10=0$$\n",
    "\n",
    "a) $g(x)=\\frac{1}{2}\\sqrt{10-x^3}=x$."
   ]
  },
  {
   "cell_type": "markdown",
   "metadata": {},
   "source": [
    " $$x^3+4x^2-10=0$$ \n",
    "    \n",
    " $$4x^2=10-x^3$$\n",
    " \n",
    " $$2x=\\sqrt{10-x^3}$$\n",
    " \n",
    " $$x=\\frac{1}{2}\\sqrt{10-x^3}$$\n",
    " \n",
    "Donc $ f(x)=g(x)$"
   ]
  },
  {
   "cell_type": "markdown",
   "metadata": {},
   "source": [
    "## Calcul symbolique de la dérivée"
   ]
  },
  {
   "cell_type": "code",
   "execution_count": 3,
   "metadata": {},
   "outputs": [],
   "source": [
    "from sympy import *\n",
    "import numpy as np\n",
    "x, y, z = symbols('x y z')\n",
    "init_printing(use_unicode=True)\n",
    "g1=lambda x: 1/2*sqrt(10-x**3)\n"
   ]
  },
  {
   "cell_type": "code",
   "execution_count": 4,
   "metadata": {},
   "outputs": [
    {
     "data": {
      "image/png": "[encoded data removed]",
      "text/latex": [
       "$\\displaystyle -0.5117446282927461$"
      ],
      "text/plain": [
       "-0.5117446282927461"
      ]
     },
     "execution_count": 4,
     "metadata": {},
     "output_type": "execute_result"
    }
   ],
   "source": [
    "dg1=lambdify(x,diff(g1(x),x,1))\n",
    "dg1(1.365)"
   ]
  },
  {
   "cell_type": "markdown",
   "metadata": {},
   "source": [
    " ## Conclusion  à propos des convergences de g1"
   ]
  },
  {
   "cell_type": "code",
   "execution_count": 5,
   "metadata": {},
   "outputs": [
    {
     "name": "stdout",
     "output_type": "stream",
     "text": [
      "x3= 1.4142156862745097\n",
      "x4= 1.4142135623746899\n",
      "x5= 1.414213562373095\n"
     ]
    }
   ],
   "source": [
    "x0=1\n",
    "h=lambda x: 1/2*(x+2/x)\n",
    "x1=h(x0)\n",
    "x2=h(x1)\n",
    "x3=h(x2)\n",
    "x4=h(x3)\n",
    "x5=h(x4)\n",
    "print('x3=',x3)\n",
    "print('x4=',x4)\n",
    "print('x5=',x5)\n"
   ]
  },
  {
   "cell_type": "code",
   "execution_count": 6,
   "metadata": {},
   "outputs": [
    {
     "data": {
      "image/png": "[encoded data removed]",
      "text/latex": [
       "$\\displaystyle 1.4142135623730951$"
      ],
      "text/plain": [
       "1.4142135623730951"
      ]
     },
     "execution_count": 6,
     "metadata": {},
     "output_type": "execute_result"
    }
   ],
   "source": [
    "from numpy import sqrt\n",
    "sqrt(2)"
   ]
  },
  {
   "cell_type": "markdown",
   "metadata": {},
   "source": [
    "> ### g1 converge vers la solution $x^2-2=0$  \n",
    "=> $\\sqrt{2}$"
   ]
  },
  {
   "cell_type": "markdown",
   "metadata": {},
   "source": [
    "## Justification théoriques pour g2 et g3"
   ]
  },
  {
   "cell_type": "markdown",
   "metadata": {},
   "source": [
    "## Etudier théoriquement la convergences de g2 et g3"
   ]
  },
  {
   "cell_type": "markdown",
   "metadata": {},
   "source": [
    "### Calcul symbolique de la dérivée g2"
   ]
  },
  {
   "cell_type": "code",
   "execution_count": 7,
   "metadata": {},
   "outputs": [],
   "source": [
    "from sympy import *\n",
    "import numpy as np\n",
    "x, y, z = symbols('x y z')\n",
    "init_printing(use_unicode=True)\n",
    "g2=lambda x: sqrt(10/(4+x))\n"
   ]
  },
  {
   "cell_type": "code",
   "execution_count": 8,
   "metadata": {},
   "outputs": [
    {
     "data": {
      "image/png": "[encoded data removed]",
      "text/latex": [
       "$\\displaystyle -0.12723758423338585$"
      ],
      "text/plain": [
       "-0.12723758423338585"
      ]
     },
     "execution_count": 8,
     "metadata": {},
     "output_type": "execute_result"
    }
   ],
   "source": [
    "dg2=lambdify(x,diff(g2(x),x,1))\n",
    "dg2(1.365)"
   ]
  },
  {
   "cell_type": "markdown",
   "metadata": {},
   "source": [
    "### Conclusion  à propos des convergences de g2"
   ]
  },
  {
   "cell_type": "code",
   "execution_count": 15,
   "metadata": {},
   "outputs": [
    {
     "name": "stdout",
     "output_type": "stream",
     "text": [
      "x3= 1.36601821952927\n",
      "x4= 1.36512974146942\n",
      "x5= 1.36524277113249\n"
     ]
    }
   ],
   "source": [
    "x0=1\n",
    "h=lambda x: sqrt(10/(4+x))\n",
    "x1=h(x0)\n",
    "x2=h(x1)\n",
    "x3=h(x2)\n",
    "x4=h(x3)\n",
    "x5=h(x4)\n",
    "print('x3=',x3)\n",
    "print('x4=',x4)\n",
    "print('x5=',x5)\n"
   ]
  },
  {
   "cell_type": "markdown",
   "metadata": {},
   "source": [
    "> ### g2 converge"
   ]
  },
  {
   "cell_type": "markdown",
   "metadata": {},
   "source": [
    "### Calcul symbolique de la dérivée g3"
   ]
  },
  {
   "cell_type": "code",
   "execution_count": 13,
   "metadata": {},
   "outputs": [],
   "source": [
    "from sympy import *\n",
    "import numpy as np\n",
    "x, y, z = symbols('x y z')\n",
    "init_printing(use_unicode=True)\n",
    "g3=lambda x: x-x**3-4*x**2 + 10\n"
   ]
  },
  {
   "cell_type": "code",
   "execution_count": 14,
   "metadata": {},
   "outputs": [
    {
     "data": {
      "image/png": "[encoded data removed]",
      "text/latex": [
       "$\\displaystyle -15.509675000000001$"
      ],
      "text/plain": [
       "-15.509675000000001"
      ]
     },
     "execution_count": 14,
     "metadata": {},
     "output_type": "execute_result"
    }
   ],
   "source": [
    "dg3=lambdify(x,diff(g3(x),x,1))\n",
    "dg3(1.365)"
   ]
  },
  {
   "cell_type": "markdown",
   "metadata": {},
   "source": [
    "### Conclusion  à propos des convergences de g2"
   ]
  },
  {
   "cell_type": "code",
   "execution_count": 16,
   "metadata": {},
   "outputs": [
    {
     "name": "stdout",
     "output_type": "stream",
     "text": [
      "x3= 40233906\n",
      "x4= -65129333514558057874844\n",
      "x5= 276267566256213162888529704030678513042811122704248237334087504231406\n"
     ]
    }
   ],
   "source": [
    "x0=1\n",
    "h=lambda x: x-x**3-4*x**2 + 10\n",
    "x1=h(x0)\n",
    "x2=h(x1)\n",
    "x3=h(x2)\n",
    "x4=h(x3)\n",
    "x5=h(x4)\n",
    "print('x3=',x3)\n",
    "print('x4=',x4)\n",
    "print('x5=',x5)\n"
   ]
  },
  {
   "cell_type": "markdown",
   "metadata": {},
   "source": [
    "> ### g3 diverge"
   ]
  },
  {
   "cell_type": "markdown",
   "metadata": {},
   "source": [
    "#### 3)<h4>"
   ]
  },
  {
   "cell_type": "markdown",
   "metadata": {},
   "source": [
    "#### 4)<h4>"
   ]
  },
  {
   "cell_type": "code",
   "execution_count": 18,
   "metadata": {},
   "outputs": [],
   "source": [
    "import math\n",
    "\n",
    "f=lambda x:  x**3+4*x**2-10 # la fonction f\n",
    "g1=lambda x: 1/2*sqrt(10-x**3)\n",
    "g2=lambda x: sqrt(10/(x+4))\n",
    "g3=lambda x: x-x**3-4*x**2 + 10\n",
    "\n",
    "\n",
    "def ptfixe(g,x0,eps,nmax):\n",
    "    z=x0\n",
    "    for i in range(nmax):\n",
    "        x=z\n",
    "        z=g(x)\n",
    "        erreur=abs(z-x)\n",
    "        print(z)\n",
    "        if erreur<eps:\n",
    "            return z,i,x\n",
    "        \n",
    "      "
   ]
  },
  {
   "cell_type": "code",
   "execution_count": 22,
   "metadata": {},
   "outputs": [
    {
     "name": "stdout",
     "output_type": "stream",
     "text": [
      "1.28695376762338\n",
      "1.40254080353958\n",
      "1.34545837402329\n",
      "1.37517025281604\n",
      "1.36009419276173\n",
      "1.36784696759213\n",
      "1.36388700388402\n",
      "1.36591673339004\n",
      "1.36487821719368\n",
      "1.36541006116996\n"
     ]
    },
    {
     "data": {
      "image/png": "[encoded data removed]",
      "text/latex": [
       "$\\displaystyle \\left( 1.36541006116996, \\  9, \\  1.36487821719368\\right)$"
      ],
      "text/plain": [
       "(1.36541006116996, 9, 1.36487821719368)"
      ]
     },
     "execution_count": 22,
     "metadata": {},
     "output_type": "execute_result"
    }
   ],
   "source": [
    "ptfixe(g1,1.5,0.001,50)"
   ]
  },
  {
   "cell_type": "markdown",
   "metadata": {},
   "source": [
    "### le nombre d'itération est 9 pour g1"
   ]
  },
  {
   "cell_type": "code",
   "execution_count": 23,
   "metadata": {},
   "outputs": [
    {
     "name": "stdout",
     "output_type": "stream",
     "text": [
      "1.34839972492648\n",
      "1.36737637199128\n",
      "1.36495701540249\n",
      "1.36526474811344\n"
     ]
    },
    {
     "data": {
      "image/png": "[encoded data removed]",
      "text/latex": [
       "$\\displaystyle \\left( 1.36526474811344, \\  3, \\  1.36495701540249\\right)$"
      ],
      "text/plain": [
       "(1.36526474811344, 3, 1.36495701540249)"
      ]
     },
     "execution_count": 23,
     "metadata": {},
     "output_type": "execute_result"
    }
   ],
   "source": [
    "ptfixe(g2,1.5,0.001,50)"
   ]
  },
  {
   "cell_type": "markdown",
   "metadata": {},
   "source": [
    "### le nombre d'itération est 3 pour g2"
   ]
  },
  {
   "cell_type": "code",
   "execution_count": 24,
   "metadata": {},
   "outputs": [
    {
     "name": "stdout",
     "output_type": "stream",
     "text": [
      "-0.875\n",
      "6.732421875\n",
      "-469.72001200169325\n",
      "102754555.18738511\n",
      "-1.0849338705317464e+24\n",
      "1.277055591444378e+72\n",
      "-2.082712908581025e+216\n"
     ]
    },
    {
     "ename": "OverflowError",
     "evalue": "(34, 'Result too large')",
     "output_type": "error",
     "traceback": [
      "\u001b[1;31m---------------------------------------------------------------------------\u001b[0m",
      "\u001b[1;31mOverflowError\u001b[0m                             Traceback (most recent call last)",
      "\u001b[1;32m<ipython-input-24-88c9c8adf27b>\u001b[0m in \u001b[0;36m<module>\u001b[1;34m\u001b[0m\n\u001b[1;32m----> 1\u001b[1;33m \u001b[0mptfixe\u001b[0m\u001b[1;33m(\u001b[0m\u001b[0mg3\u001b[0m\u001b[1;33m,\u001b[0m\u001b[1;36m1.5\u001b[0m\u001b[1;33m,\u001b[0m\u001b[1;36m0.001\u001b[0m\u001b[1;33m,\u001b[0m\u001b[1;36m50\u001b[0m\u001b[1;33m)\u001b[0m\u001b[1;33m\u001b[0m\u001b[1;33m\u001b[0m\u001b[0m\n\u001b[0m",
      "\u001b[1;32m<ipython-input-18-29624b409c9d>\u001b[0m in \u001b[0;36mptfixe\u001b[1;34m(g, x0, eps, nmax)\u001b[0m\n\u001b[0;32m     11\u001b[0m     \u001b[1;32mfor\u001b[0m \u001b[0mi\u001b[0m \u001b[1;32min\u001b[0m \u001b[0mrange\u001b[0m\u001b[1;33m(\u001b[0m\u001b[0mnmax\u001b[0m\u001b[1;33m)\u001b[0m\u001b[1;33m:\u001b[0m\u001b[1;33m\u001b[0m\u001b[1;33m\u001b[0m\u001b[0m\n\u001b[0;32m     12\u001b[0m         \u001b[0mx\u001b[0m\u001b[1;33m=\u001b[0m\u001b[0mz\u001b[0m\u001b[1;33m\u001b[0m\u001b[1;33m\u001b[0m\u001b[0m\n\u001b[1;32m---> 13\u001b[1;33m         \u001b[0mz\u001b[0m\u001b[1;33m=\u001b[0m\u001b[0mg\u001b[0m\u001b[1;33m(\u001b[0m\u001b[0mx\u001b[0m\u001b[1;33m)\u001b[0m\u001b[1;33m\u001b[0m\u001b[1;33m\u001b[0m\u001b[0m\n\u001b[0m\u001b[0;32m     14\u001b[0m         \u001b[0merreur\u001b[0m\u001b[1;33m=\u001b[0m\u001b[0mabs\u001b[0m\u001b[1;33m(\u001b[0m\u001b[0mz\u001b[0m\u001b[1;33m-\u001b[0m\u001b[0mx\u001b[0m\u001b[1;33m)\u001b[0m\u001b[1;33m\u001b[0m\u001b[1;33m\u001b[0m\u001b[0m\n\u001b[0;32m     15\u001b[0m         \u001b[0mprint\u001b[0m\u001b[1;33m(\u001b[0m\u001b[0mz\u001b[0m\u001b[1;33m)\u001b[0m\u001b[1;33m\u001b[0m\u001b[1;33m\u001b[0m\u001b[0m\n",
      "\u001b[1;32m<ipython-input-18-29624b409c9d>\u001b[0m in \u001b[0;36m<lambda>\u001b[1;34m(x)\u001b[0m\n\u001b[0;32m      4\u001b[0m \u001b[0mg1\u001b[0m\u001b[1;33m=\u001b[0m\u001b[1;32mlambda\u001b[0m \u001b[0mx\u001b[0m\u001b[1;33m:\u001b[0m \u001b[1;36m1\u001b[0m\u001b[1;33m/\u001b[0m\u001b[1;36m2\u001b[0m\u001b[1;33m*\u001b[0m\u001b[0msqrt\u001b[0m\u001b[1;33m(\u001b[0m\u001b[1;36m10\u001b[0m\u001b[1;33m-\u001b[0m\u001b[0mx\u001b[0m\u001b[1;33m**\u001b[0m\u001b[1;36m3\u001b[0m\u001b[1;33m)\u001b[0m\u001b[1;33m\u001b[0m\u001b[1;33m\u001b[0m\u001b[0m\n\u001b[0;32m      5\u001b[0m \u001b[0mg2\u001b[0m\u001b[1;33m=\u001b[0m\u001b[1;32mlambda\u001b[0m \u001b[0mx\u001b[0m\u001b[1;33m:\u001b[0m \u001b[0msqrt\u001b[0m\u001b[1;33m(\u001b[0m\u001b[1;36m10\u001b[0m\u001b[1;33m/\u001b[0m\u001b[1;33m(\u001b[0m\u001b[0mx\u001b[0m\u001b[1;33m+\u001b[0m\u001b[1;36m4\u001b[0m\u001b[1;33m)\u001b[0m\u001b[1;33m)\u001b[0m\u001b[1;33m\u001b[0m\u001b[1;33m\u001b[0m\u001b[0m\n\u001b[1;32m----> 6\u001b[1;33m \u001b[0mg3\u001b[0m\u001b[1;33m=\u001b[0m\u001b[1;32mlambda\u001b[0m \u001b[0mx\u001b[0m\u001b[1;33m:\u001b[0m \u001b[0mx\u001b[0m\u001b[1;33m-\u001b[0m\u001b[0mx\u001b[0m\u001b[1;33m**\u001b[0m\u001b[1;36m3\u001b[0m\u001b[1;33m-\u001b[0m\u001b[1;36m4\u001b[0m\u001b[1;33m*\u001b[0m\u001b[0mx\u001b[0m\u001b[1;33m**\u001b[0m\u001b[1;36m2\u001b[0m \u001b[1;33m+\u001b[0m \u001b[1;36m10\u001b[0m\u001b[1;33m\u001b[0m\u001b[1;33m\u001b[0m\u001b[0m\n\u001b[0m\u001b[0;32m      7\u001b[0m \u001b[1;33m\u001b[0m\u001b[0m\n\u001b[0;32m      8\u001b[0m \u001b[1;33m\u001b[0m\u001b[0m\n",
      "\u001b[1;31mOverflowError\u001b[0m: (34, 'Result too large')"
     ]
    }
   ],
   "source": [
    "ptfixe(g3,1.5,0.001,50)"
   ]
  },
  {
   "cell_type": "markdown",
   "metadata": {},
   "source": [
    "### le nombre d'itération est zero pour g3 car il diverge"
   ]
  },
  {
   "cell_type": "markdown",
   "metadata": {},
   "source": [
    "# EXERCICE 4:\n",
    ">1) On considère la fonction $f(x)=e^{-x}-x$. Ecrire puis appliquer  une fonction Matlab que l'on appellera `newton.m` à la >fonction $f$, en prenant $x0=0$, $eps=0.001$ .\n",
    ">\n",
    ">2) Montrer que l'équation $f(x)=0$ admet une solution unique que l'on peut obtenir en utilisant la méthode de Newton à partir >de $x0=1$."
   ]
  },
  {
   "cell_type": "markdown",
   "metadata": {},
   "source": [
    "### Correction <h3>"
   ]
  },
  {
   "cell_type": "markdown",
   "metadata": {},
   "source": [
    "#### 1)<h4>"
   ]
  },
  {
   "cell_type": "code",
   "execution_count": 26,
   "metadata": {},
   "outputs": [],
   "source": [
    "def newtonn(f,fprime,a,eps):\n",
    "    x1=a\n",
    "    x2=x1-f(x1)/fprime(x1)\n",
    "    while abs(x1-x2)>eps:\n",
    "        x1=x2\n",
    "        x2=x1-f(x1)/fprime(x1)\n",
    "    return x2"
   ]
  },
  {
   "cell_type": "code",
   "execution_count": 27,
   "metadata": {},
   "outputs": [
    {
     "data": {
      "image/png": "[encoded data removed]",
      "text/latex": [
       "$\\displaystyle - \\frac{-1 + e^{-1}}{-1 - e^{-1}} - \\frac{-1 + \\frac{-1 + \\frac{-1 + e^{-1}}{-1 - e^{-1}} + e^{-1 + \\frac{-1 + e^{-1}}{-1 - e^{-1}}}}{-1 - e^{-1 + \\frac{-1 + e^{-1}}{-1 - e^{-1}}}} + \\frac{-1 + e^{-1}}{-1 - e^{-1}} + e^{-1 + \\frac{-1 + \\frac{-1 + e^{-1}}{-1 - e^{-1}} + e^{-1 + \\frac{-1 + e^{-1}}{-1 - e^{-1}}}}{-1 - e^{-1 + \\frac{-1 + e^{-1}}{-1 - e^{-1}}}} + \\frac{-1 + e^{-1}}{-1 - e^{-1}}}}{-1 - e^{-1 + \\frac{-1 + \\frac{-1 + e^{-1}}{-1 - e^{-1}} + e^{-1 + \\frac{-1 + e^{-1}}{-1 - e^{-1}}}}{-1 - e^{-1 + \\frac{-1 + e^{-1}}{-1 - e^{-1}}}} + \\frac{-1 + e^{-1}}{-1 - e^{-1}}}} - \\frac{-1 + \\frac{-1 + e^{-1}}{-1 - e^{-1}} + e^{-1 + \\frac{-1 + e^{-1}}{-1 - e^{-1}}}}{-1 - e^{-1 + \\frac{-1 + e^{-1}}{-1 - e^{-1}}}} + 1$"
      ],
      "text/plain": [
       "                                                                              \n",
       "                                                                              \n",
       "                                                                              \n",
       "                                                                              \n",
       "                                                                         -1 + \n",
       "                                                                    -1 + ─────\n",
       "                                                                              \n",
       "                                              -1                         -1 - \n",
       "                                        -1 + ℯ                 -1 + ──────────\n",
       "                                   -1 + ────────                              \n",
       "                             -1               -1                              \n",
       "                       -1 + ℯ           -1 - ℯ                                \n",
       "                  -1 + ──────── + ℯ                                           \n",
       "                             -1                          -1                   \n",
       "                       -1 - ℯ                      -1 + ℯ                -1 - \n",
       "             -1 + ────────────────────────────── + ──────── + ℯ               \n",
       "                                        -1               -1                   \n",
       "                                  -1 + ℯ           -1 - ℯ                     \n",
       "                             -1 + ────────                                    \n",
       "                                        -1                                    \n",
       "        -1                        -1 - ℯ                                      \n",
       "  -1 + ℯ               -1 - ℯ                                                 \n",
       "- ──────── - ─────────────────────────────────────────────────────────────────\n",
       "        -1                                                                -1  \n",
       "  -1 - ℯ                                                            -1 + ℯ    \n",
       "                                                               -1 + ────────  \n",
       "                                                         -1               -1  \n",
       "                                                   -1 + ℯ           -1 - ℯ    \n",
       "                                              -1 + ──────── + ℯ               \n",
       "                                                         -1                   \n",
       "                                                   -1 - ℯ                     \n",
       "                                         -1 + ────────────────────────────── +\n",
       "                                                                    -1        \n",
       "                                                              -1 + ℯ          \n",
       "                                                         -1 + ────────        \n",
       "                                                                    -1        \n",
       "                                                              -1 - ℯ          \n",
       "                                                   -1 - ℯ                     \n",
       "                                   -1 - ℯ                                     \n",
       "\n",
       "                  -1                                                \n",
       "            -1 + ℯ                                                  \n",
       "       -1 + ────────                                                \n",
       " -1               -1                                                \n",
       "ℯ           -1 - ℯ                                                  \n",
       "─── + ℯ                                                             \n",
       " -1                          -1                                     \n",
       "ℯ                      -1 + ℯ                                       \n",
       "──────────────────── + ────────                                     \n",
       "            -1               -1                                     \n",
       "      -1 + ℯ           -1 - ℯ                                       \n",
       " -1 + ────────                                                      \n",
       "            -1                                                      \n",
       "      -1 - ℯ                                                        \n",
       "ℯ                                                             -1    \n",
       "                                                        -1 + ℯ      \n",
       "                                                   -1 + ────────    \n",
       "                                             -1               -1    \n",
       "                                       -1 + ℯ           -1 - ℯ      \n",
       "                                  -1 + ──────── + ℯ                 \n",
       "                                             -1                     \n",
       "                                       -1 - ℯ                       \n",
       "─────────────────────────────── - ────────────────────────────── + 1\n",
       "                                                        -1          \n",
       "                                                  -1 + ℯ            \n",
       "                                             -1 + ────────          \n",
       "                                                        -1          \n",
       "                                                  -1 - ℯ            \n",
       "                                       -1 - ℯ                       \n",
       "       -1                                                           \n",
       " -1 + ℯ                                                             \n",
       " ────────                                                           \n",
       "       -1                                                           \n",
       " -1 - ℯ                                                             \n",
       "                                                                    \n",
       "                                                                    \n",
       "                                                                    \n",
       "                                                                    \n",
       "                                                                    "
      ]
     },
     "execution_count": 27,
     "metadata": {},
     "output_type": "execute_result"
    }
   ],
   "source": [
    "f=lambda x: exp(-x)-x\n",
    "fprime=lambda x: -exp(-x)-1\n",
    "newtonn(f,fprime,1,0.001)"
   ]
  },
  {
   "cell_type": "markdown",
   "metadata": {},
   "source": [
    "### 2) <h4>"
   ]
  },
  {
   "cell_type": "code",
   "execution_count": null,
   "metadata": {},
   "outputs": [],
   "source": []
  }
 ],
 "metadata": {
  "kernelspec": {
   "display_name": "Python 3",
   "language": "python",
   "name": "python3"
  },
  "language_info": {
   "codemirror_mode": {
    "name": "ipython",
    "version": 3
   },
   "file_extension": ".py",
   "mimetype": "text/x-python",
   "name": "python",
   "nbconvert_exporter": "python",
   "pygments_lexer": "ipython3",
   "version": "3.7.4"
  }
 },
 "nbformat": 4,
 "nbformat_minor": 2
}
